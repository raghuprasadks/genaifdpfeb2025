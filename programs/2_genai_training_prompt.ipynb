{
  "nbformat": 4,
  "nbformat_minor": 0,
  "metadata": {
    "colab": {
      "provenance": []
    },
    "kernelspec": {
      "name": "python3",
      "display_name": "Python 3"
    },
    "language_info": {
      "name": "python"
    }
  },
  "cells": [
    {
      "cell_type": "code",
      "source": [
        "!pip install openai -q"
      ],
      "metadata": {
        "id": "DVx3CsMuG-tM"
      },
      "execution_count": null,
      "outputs": []
    },
    {
      "cell_type": "code",
      "execution_count": null,
      "metadata": {
        "id": "LWUXzIafdcAl"
      },
      "outputs": [],
      "source": [
        "from openai import OpenAI\n",
        "\n"
      ]
    },
    {
      "cell_type": "code",
      "source": [
        "# Set your OpenAI API key in google colab secrets\n",
        "import os\n",
        "from google.colab import userdata\n",
        "OPENAI_API_KEY = userdata.get(\"OPENAI_API_KEY\")"
      ],
      "metadata": {
        "id": "aw2xB-jEk6sr"
      },
      "execution_count": null,
      "outputs": []
    },
    {
      "cell_type": "code",
      "source": [
        "client=OpenAI(api_key=OPENAI_API_KEY)"
      ],
      "metadata": {
        "id": "n3l6JDyllzhn"
      },
      "execution_count": null,
      "outputs": []
    },
    {
      "cell_type": "code",
      "source": [
        "# List of mock interview questions\n",
        "\"\"\"\n",
        "questions = [\n",
        "    \"Explain the difference between String, StringBuilder, and StringBuffer in Java. When would you use each?\",\n",
        "    \"Write a function in Java to find the longest palindrome substring in a given string.\",\n",
        "    \"What are Java Streams? Write a code snippet to filter a list of integers to find all even numbers.\",\n",
        "    \"How would you implement a thread-safe Singleton class in Java?\",\n",
        "    \"Design a parking lot system using OOP concepts. Define the necessary classes and methods.\"\n",
        "]\n",
        "\"\"\"\n",
        "questions = [\n",
        "    \"Explain the difference between String, StringBuilder, and StringBuffer in Java. When would you use each?\",\n",
        "    \"Write a function in Java to find the longest palindrome substring in a given string.\"\n",
        "]"
      ],
      "metadata": {
        "id": "XvSCJOBklAch"
      },
      "execution_count": null,
      "outputs": []
    },
    {
      "cell_type": "code",
      "source": [
        "# Function to interact with OpenAI Chat API\n",
        "def ask_openai_chat(question):\n",
        "    response = client.chat.completions.create(\n",
        "        model=\"gpt-4\",  # Use \"gpt-3.5-turbo\" if preferred\n",
        "        messages=[\n",
        "            {\"role\": \"system\", \"content\": \"You are a Java expert conducting a mock interview.\"},\n",
        "            {\"role\": \"user\", \"content\": question}\n",
        "        ]\n",
        "    )\n",
        "    #return response[\"choices\"][0][\"message\"][\"content\"].strip()\n",
        "    return response.choices[0].message.content\n"
      ],
      "metadata": {
        "id": "5U4O9re0lHRd"
      },
      "execution_count": null,
      "outputs": []
    },
    {
      "cell_type": "code",
      "source": [
        "# Conduct the mock interview\n",
        "def conduct_mock_interview():\n",
        "    print(\"Starting Mock Interview...\\n\")\n",
        "    for i, question in enumerate(questions, start=1):\n",
        "        print(f\"Question {i}: {question}\")\n",
        "        answer = ask_openai_chat(question)\n",
        "        print(f\"\\nSample Answer:\\n{answer}\\n\")\n",
        "        input(\"Press Enter to proceed to the next question...\\n\")\n"
      ],
      "metadata": {
        "id": "LkN45cCXlOA9"
      },
      "execution_count": null,
      "outputs": []
    },
    {
      "cell_type": "code",
      "source": [
        "conduct_mock_interview()"
      ],
      "metadata": {
        "colab": {
          "base_uri": "https://localhost:8080/"
        },
        "id": "QYAdeuDRlQW6",
        "outputId": "a2fab11d-b32c-4a0e-aedd-abfc0630107c"
      },
      "execution_count": null,
      "outputs": [
        {
          "name": "stdout",
          "output_type": "stream",
          "text": [
            "Starting Mock Interview...\n",
            "\n",
            "Question 1: Explain the difference between String, StringBuilder, and StringBuffer in Java. When would you use each?\n",
            "\n",
            "Sample Answer:\n",
            "In Java, String, StringBuilder, and StringBuffer are used to represent and manipulate a sequence of characters, but they differ in terms of mutability and thread safety.\n",
            "\n",
            "1) String: It is an immutable class. This means once we create a String object, we cannot change it. If we try to alter it, a new String object will be created. This immutability feature makes it safe to use in multi-threaded environments as its state cannot be changed by any thread once created. However, this might lead to memory waste if you perform frequent modifications to your string.\n",
            "\n",
            "2) StringBuilder: Unlike String, it is mutable in nature. This means we can change the object's content. It offers append(), insert(), delete(), and other methods to manipulate the string, making it a suitable choice when dealing with strings that need to be modified frequently, for example when reading in chunks of a file or building a dynamic SQL query. It is not thread-safe which limits its performance overhead caused by the synchronization.\n",
            "\n",
            "3) StringBuffer: It also is a mutable class, similar to StringBuilder. But the core difference between StringBuffer and StringBuilder is that StringBuffer is thread-safe - the methods are synchronized, meaning only one thread can access the method at a time. This is very useful in a multi-threading environment but this also makes it less efficient than StringBuilder when working with single threaded scenarios due to synchronization overhead.\n",
            "\n",
            "When to Use Each:\n",
            "Choose String if you're dealing with a fixed piece of text that won’t be modified, particularly in single-threaded scenarios.\n",
            "\n",
            "Opt for StringBuilder when string manipulation (such as concatenation, addition, deletion) is involved and all the work is done in a single-threaded environment.\n",
            "\n",
            "Lastly, use StringBuffer in a multi-threaded environment where string manipulation is taking place and you want to ensure the correctness of data even in a multi-threaded environment. \n",
            "\n",
            "It’s always important to assess your program’s needs and make an informed decision accordingly.\n",
            "\n",
            "Press Enter to proceed to the next question...\n",
            "\n",
            "Question 2: Write a function in Java to find the longest palindrome substring in a given string.\n",
            "\n",
            "Sample Answer:\n",
            "In Java, you can create a function to find the longest palindrome substring in a given string using dynamic programming. Here's an example:\n",
            "\n",
            "```java\n",
            "public class Main {\n",
            "    public static void main(String[] args) {\n",
            "        String str = \"babad\";\n",
            "        System.out.println(\"The longest palindromic substring is: \" + longestPalindrome(str));\n",
            "    }\n",
            "\n",
            "    public static String longestPalindrome(String s) {\n",
            "        if (s == null || s.length() < 1) {\n",
            "            return \"\";\n",
            "        }\n",
            "        int start = 0, end = 0;\n",
            "        for (int i = 0; i < s.length(); i++) {\n",
            "            int len1 = expandAroundCenter(s, i, i);\n",
            "            int len2 = expandAroundCenter(s, i, i + 1);\n",
            "            int len = Math.max(len1, len2);\n",
            "            if (len > end - start) {\n",
            "                start = i - (len - 1) / 2;\n",
            "                end = i + len / 2;\n",
            "            }\n",
            "        }\n",
            "        return s.substring(start, end + 1);\n",
            "    }\n",
            "\n",
            "    private static int expandAroundCenter(String s, int left, int right) {\n",
            "        int L = left, R = right;\n",
            "        while (L >= 0 && R < s.length() && s.charAt(L) == s.charAt(R)) {\n",
            "            L--;\n",
            "            R++;\n",
            "        }\n",
            "        return R - L - 1;\n",
            "    }\n",
            "}\n",
            "```\n",
            "This code works by expanding around the center of the string and finding the longest palindrome. This way, it works for both even and odd length palindromes. If the length of the newly found palindrome is larger than the length of the previously stored palindrome, it updates the start and end pointers. Finally, it returns the longest palindromic substring.\n",
            "\n",
            "In the `main` method, you can just replace `\"babad\"` with any string you want to find the longest palindromic substring from. As for the string `\"babad\"`, the output will be `\"bab\"`. Since both \"bab\" and \"aba\" are palindromes, it will accept the first one it encounters.\n",
            "\n",
            "Press Enter to proceed to the next question...\n",
            "\n"
          ]
        }
      ]
    },
    {
      "cell_type": "code",
      "source": [
        "#Program using cohere"
      ],
      "metadata": {
        "id": "70b-HLHUvThU"
      },
      "execution_count": null,
      "outputs": []
    },
    {
      "cell_type": "code",
      "source": [
        "!pip install cohere -q"
      ],
      "metadata": {
        "colab": {
          "base_uri": "https://localhost:8080/"
        },
        "id": "x301ujdivYQu",
        "outputId": "69f49781-1d69-4a33-e4a1-dc32a77fa3f3"
      },
      "execution_count": null,
      "outputs": [
        {
          "output_type": "stream",
          "name": "stdout",
          "text": [
            "\u001b[2K   \u001b[90m━━━━━━━━━━━━━━━━━━━━━━━━━━━━━━━━━━━━━━━━\u001b[0m \u001b[32m252.5/252.5 kB\u001b[0m \u001b[31m5.6 MB/s\u001b[0m eta \u001b[36m0:00:00\u001b[0m\n",
            "\u001b[2K   \u001b[90m━━━━━━━━━━━━━━━━━━━━━━━━━━━━━━━━━━━━━━━━\u001b[0m \u001b[32m3.3/3.3 MB\u001b[0m \u001b[31m51.2 MB/s\u001b[0m eta \u001b[36m0:00:00\u001b[0m\n",
            "\u001b[?25h"
          ]
        }
      ]
    },
    {
      "cell_type": "code",
      "source": [
        "import cohere\n",
        "# Set your COHERE_API_KEY key in google colab secrets\n",
        "from google.colab import userdata\n",
        "COHERE_API_KEY = userdata.get(\"COHERE_API_KEY\")\n",
        "co=cohere.Client(COHERE_API_KEY)"
      ],
      "metadata": {
        "id": "taGDCH2uvZV_"
      },
      "execution_count": null,
      "outputs": []
    },
    {
      "cell_type": "code",
      "source": [
        "def ask_cohere(question):\n",
        "    response = co.generate(\n",
        "        model=\"command-xlarge-nightly\",  # Choose an appropriate Cohere model\n",
        "        prompt=f\"You are a Java expert conducting a mock interview.\\nQuestion: {question}\\nAnswer:\",\n",
        "        max_tokens=256,  # Adjust as needed\n",
        "        temperature=0.7,  # Adjust as needed\n",
        "    )\n",
        "    return response.generations[0].text.strip()"
      ],
      "metadata": {
        "id": "FZdQVqk8vheN"
      },
      "execution_count": null,
      "outputs": []
    },
    {
      "cell_type": "code",
      "source": [
        "def conduct_mock_interview():\n",
        "    print(\"Starting Mock Interview...\\n\")\n",
        "    for i, question in enumerate(questions, start=1):\n",
        "        print(f\"Question {i}: {question}\")\n",
        "        answer = ask_cohere(question)\n",
        "        print(f\"\\nSample Answer:\\n{answer}\\n\")\n",
        "        input(\"Press Enter to proceed to the next question...\\n\")"
      ],
      "metadata": {
        "id": "gcEaxqT7vxK2"
      },
      "execution_count": null,
      "outputs": []
    },
    {
      "cell_type": "code",
      "source": [
        "questions = [\n",
        "    \"Explain the difference between String, StringBuilder, and StringBuffer in Java. When would you use each?\",\n",
        "    \"Write a function in Java to find the longest palindrome substring in a given string.\"\n",
        "]"
      ],
      "metadata": {
        "id": "MtmmL94mv_09"
      },
      "execution_count": null,
      "outputs": []
    },
    {
      "cell_type": "code",
      "source": [
        "conduct_mock_interview()"
      ],
      "metadata": {
        "colab": {
          "base_uri": "https://localhost:8080/"
        },
        "id": "c-VUluQXwEDt",
        "outputId": "62e3adbf-b52d-4c58-c0f2-3b5d32ce1684"
      },
      "execution_count": null,
      "outputs": [
        {
          "name": "stdout",
          "output_type": "stream",
          "text": [
            "Starting Mock Interview...\n",
            "\n",
            "Question 1: Explain the difference between String, StringBuilder, and StringBuffer in Java. When would you use each?\n",
            "\n",
            "Sample Answer:\n",
            "In Java, `String`, `StringBuilder`, and ` StringBuffer` are classes used for handling character sequences, but they have distinct purposes and use cases:\n",
            "1. **String (java.lang.String):**\n",
            "   - `String` is an immutable class, which means its content cannot be modified once created.\n",
            "   - It is widely used for storing and manipulating text data in Java.\n",
            "   - When you perform operations like concatenation or modification on a `String`, a new `String` object is created in memory, which can be inefficient for a large number of operations.\n",
            "   - Use `String` when you need fixed text that won't change frequently, such as constant values, user input, or when immutability is important for thread safety.\n",
            "\n",
            "   ```java\n",
            "   String message = \"Hello, Java!\";\n",
            "   ```\n",
            "\n",
            "2. **StringBuilder (java.lang.StringBuilder):**\n",
            "   - `StringBuilder` is a mutable class designed for efficient string concatenation and manipulation.\n",
            "   - It provides methods for appending, inserting, deleting, and replacing characters, and it dynamically adjusts its capacity as needed.\n",
            "   - `StringBuilder` is not thread-safe, so it's suitable for single-threaded scenarios.\n",
            "   - Use `StringBuilder` when you need to perform multiple operations on a\n",
            "\n",
            "Press Enter to proceed to the next question...\n",
            "\n",
            "Question 2: Write a function in Java to find the longest palindrome substring in a given string.\n",
            "\n",
            "Sample Answer:\n",
            "```java\n",
            "import java.util.*;\n",
            "\n",
            "class Solution {\n",
            "    public String longestPalindromeSubstring(String s) {\n",
            "        if (s == null || s.length() == 0) {\n",
            "            return \"\";\n",
            "        }\n",
            "        \n",
            "        int start = 0, maxLength = 1;\n",
            "        int[] lengths = new int[s.length()];\n",
            "        Arrays.fill(lengths, 1);\n",
            "        \n",
            "        for (int i = 0; i < s.length() - 1; i++) {\n",
            "            if (s.charAt(i) == s.charAt(i + 1)) {\n",
            "                start = i;\n",
            "                lengths[i] = 2;\n",
            "                maxLength = 2;\n",
            "            }\n",
            "        }\n",
            "        \n",
            "        for (int length = 3; length <= s.length(); length++) {\n",
            "            for (int i = 0; i + length - 1 < s.length(); i++) {\n",
            "                if (s.charAt(i) == s.charAt(i + length - 1) && isValid(s, i - 1, i + length, lengths)) {\n",
            "                    lengths[i] = length;\n",
            "                    start = i;\n",
            "                    maxLength = length;\n",
            "                }\n",
            "            }\n",
            "        }\n",
            "        \n",
            "        return s.substring(\n",
            "\n",
            "Press Enter to proceed to the next question...\n",
            "\n"
          ]
        }
      ]
    }
  ]
}