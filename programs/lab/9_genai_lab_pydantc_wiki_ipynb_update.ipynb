{
  "nbformat": 4,
  "nbformat_minor": 0,
  "metadata": {
    "colab": {
      "provenance": []
    },
    "kernelspec": {
      "name": "python3",
      "display_name": "Python 3"
    },
    "language_info": {
      "name": "python"
    }
  },
  "cells": [
    {
      "cell_type": "code",
      "source": [
        "!pip install wikipedia\n",
        "!pip insall pydantic\n",
        "!pip install wikipedia-api\n"
      ],
      "metadata": {
        "colab": {
          "base_uri": "https://localhost:8080/"
        },
        "id": "CqUPZuwBXF5Z",
        "outputId": "aa63a9e3-ea02-48db-b014-2b1ee792f178"
      },
      "execution_count": null,
      "outputs": [
        {
          "output_type": "stream",
          "name": "stdout",
          "text": [
            "Requirement already satisfied: wikipedia in /usr/local/lib/python3.11/dist-packages (1.4.0)\n",
            "Requirement already satisfied: beautifulsoup4 in /usr/local/lib/python3.11/dist-packages (from wikipedia) (4.12.3)\n",
            "Requirement already satisfied: requests<3.0.0,>=2.0.0 in /usr/local/lib/python3.11/dist-packages (from wikipedia) (2.32.3)\n",
            "Requirement already satisfied: charset-normalizer<4,>=2 in /usr/local/lib/python3.11/dist-packages (from requests<3.0.0,>=2.0.0->wikipedia) (3.4.1)\n",
            "Requirement already satisfied: idna<4,>=2.5 in /usr/local/lib/python3.11/dist-packages (from requests<3.0.0,>=2.0.0->wikipedia) (3.10)\n",
            "Requirement already satisfied: urllib3<3,>=1.21.1 in /usr/local/lib/python3.11/dist-packages (from requests<3.0.0,>=2.0.0->wikipedia) (2.3.0)\n",
            "Requirement already satisfied: certifi>=2017.4.17 in /usr/local/lib/python3.11/dist-packages (from requests<3.0.0,>=2.0.0->wikipedia) (2024.12.14)\n",
            "Requirement already satisfied: soupsieve>1.2 in /usr/local/lib/python3.11/dist-packages (from beautifulsoup4->wikipedia) (2.6)\n",
            "ERROR: unknown command \"insall\" - maybe you meant \"install\"\n",
            "Collecting wikipedia-api\n",
            "  Downloading wikipedia_api-0.8.1.tar.gz (19 kB)\n",
            "  Preparing metadata (setup.py) ... \u001b[?25l\u001b[?25hdone\n",
            "Requirement already satisfied: requests in /usr/local/lib/python3.11/dist-packages (from wikipedia-api) (2.32.3)\n",
            "Requirement already satisfied: charset-normalizer<4,>=2 in /usr/local/lib/python3.11/dist-packages (from requests->wikipedia-api) (3.4.1)\n",
            "Requirement already satisfied: idna<4,>=2.5 in /usr/local/lib/python3.11/dist-packages (from requests->wikipedia-api) (3.10)\n",
            "Requirement already satisfied: urllib3<3,>=1.21.1 in /usr/local/lib/python3.11/dist-packages (from requests->wikipedia-api) (2.3.0)\n",
            "Requirement already satisfied: certifi>=2017.4.17 in /usr/local/lib/python3.11/dist-packages (from requests->wikipedia-api) (2024.12.14)\n",
            "Building wheels for collected packages: wikipedia-api\n",
            "  Building wheel for wikipedia-api (setup.py) ... \u001b[?25l\u001b[?25hdone\n",
            "  Created wheel for wikipedia-api: filename=Wikipedia_API-0.8.1-py3-none-any.whl size=15384 sha256=b90ee00cf442ca157778af5c83d7614a2f43e2a653607e75ea92ac9ffe4bff4f\n",
            "  Stored in directory: /root/.cache/pip/wheels/0b/0f/39/e8214ec038ccd5aeb8c82b957289f2f3ab2251febeae5c2860\n",
            "Successfully built wikipedia-api\n",
            "Installing collected packages: wikipedia-api\n",
            "Successfully installed wikipedia-api-0.8.1\n"
          ]
        }
      ]
    },
    {
      "cell_type": "code",
      "execution_count": 36,
      "metadata": {
        "colab": {
          "base_uri": "https://localhost:8080/"
        },
        "id": "RWbEoVFGW7rj",
        "outputId": "206a4779-5dec-45fb-9eb0-cd1d23843f78"
      },
      "outputs": [
        {
          "output_type": "stream",
          "name": "stdout",
          "text": [
            "Enter Institution/Company Name: Ramaiah Institute of Technology\n",
            "{\n",
            "    \"name\": \"Ramaiah Institute of Technology\",\n",
            "    \"founder\": \"Not Available\",\n",
            "    \"founded_year\": 1962,\n",
            "    \"headquarters\": \"Ramaiah Institute of Technology (MSRIT), is a private engineering college located in Bengaluru in the Indian state of Karnataka.\",\n",
            "    \"employees\": \"Not Available\",\n",
            "    \"industry\": \"Industry recognition\\nKarnataka's first IBM Centre of Excellence was established on 19 March 2009 at RIT.\",\n",
            "    \"summary\": \"Ramaiah Institute of Technology (RIT), formerly known as M S\"\n",
            "}\n"
          ]
        }
      ],
      "source": [
        "from pydantic import BaseModel, field_validator\n",
        "import wikipediaapi\n",
        "import re\n",
        "\n",
        "class InstitutionInfo(BaseModel):\n",
        "    name: str\n",
        "    founder: str\n",
        "    founded_year: int | None  # Use int or None to allow a missing value\n",
        "    headquarters: str\n",
        "    employees: str\n",
        "    industry: str\n",
        "    summary: str\n",
        "\n",
        "    @field_validator('founded_year', mode='before')\n",
        "    def parse_founded_year(cls, value):\n",
        "        if isinstance(value, str):\n",
        "            # Try to extract a valid year from the string (just the first 4 digits if present)\n",
        "            match = re.search(r'\\b(\\d{4})\\b', value)\n",
        "            if match:\n",
        "                return int(match.group(1))\n",
        "        return None  # Return None if no valid year is found\n",
        "\n",
        "def extract_info(content: str, keywords: list, default: str = \"Not Available\") -> str:\n",
        "    \"\"\"Search for keywords in text and return the relevant part of the sentence.\"\"\"\n",
        "    for keyword in keywords:\n",
        "        match = re.search(rf\"([^.]*{keyword}[^.]*\\b\\.)\", content, re.IGNORECASE)  # Improved regex\n",
        "        if match:\n",
        "            return match.group(1).strip()\n",
        "    return default\n",
        "\n",
        "def fetch_institution_details(institution_name: str) -> InstitutionInfo:\n",
        "    wiki = wikipediaapi.Wikipedia(\n",
        "        language=\"en\",\n",
        "        user_agent=\"MyInstitutionFetcher/1.0 (contact@example.com)\"\n",
        "    )\n",
        "    page = wiki.page(institution_name)\n",
        "\n",
        "    if not page.exists():\n",
        "        return InstitutionInfo(\n",
        "            name=institution_name,\n",
        "            founder=\"Not Available\",\n",
        "            founded_year=None,  # Return None when no valid year is found\n",
        "            headquarters=\"Not Available\",\n",
        "            employees=\"Not Available\",\n",
        "            industry=\"Not Available\",\n",
        "            summary=\"No information found on Wikipedia.\"\n",
        "        )\n",
        "\n",
        "    content = page.text\n",
        "    summary = \" \".join(page.summary.split(\".\")[:2])  # Extract first two meaningful sentences\n",
        "\n",
        "    # Improved Regex searches for better extraction\n",
        "    founder = extract_info(content, [\"founder\", \"founded by\", \"established by\", \"founders of\"])\n",
        "    founded_year = extract_info(content, [\"founded\", \"established\", \"incorporated\"])\n",
        "    headquarters = extract_info(content, [\"headquartered\", \"located in\", \"based in\", \"headquarters\"])\n",
        "    employees = extract_info(content, [\"employees\", \"staff\", \"workforce\", \"team size\", \"company employees\"])\n",
        "    industry = extract_info(content, [\"industry\", \"sector\", \"domain\", \"field of operation\"])\n",
        "\n",
        "    return InstitutionInfo(\n",
        "        name=institution_name,\n",
        "        founder=founder,\n",
        "        founded_year=founded_year,\n",
        "        headquarters=headquarters,\n",
        "        employees=employees,\n",
        "        industry=industry,\n",
        "        summary=summary\n",
        "    )\n",
        "\n",
        "if __name__ == \"__main__\":\n",
        "    institution_name = input(\"Enter Institution/Company Name: \")\n",
        "    result = fetch_institution_details(institution_name)\n",
        "    print(result.model_dump_json(indent=4))  # Using model_dump_json instead of json\n"
      ]
    }
  ]
}