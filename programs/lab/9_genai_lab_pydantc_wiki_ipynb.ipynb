{
  "nbformat": 4,
  "nbformat_minor": 0,
  "metadata": {
    "colab": {
      "provenance": []
    },
    "kernelspec": {
      "name": "python3",
      "display_name": "Python 3"
    },
    "language_info": {
      "name": "python"
    }
  },
  "cells": [
    {
      "cell_type": "code",
      "source": [
        "!pip install wikipedia\n",
        "!pip insall pydantic"
      ],
      "metadata": {
        "colab": {
          "base_uri": "https://localhost:8080/"
        },
        "id": "CqUPZuwBXF5Z",
        "outputId": "249e493c-9a54-4d3f-be1e-61d7a504cb54"
      },
      "execution_count": 2,
      "outputs": [
        {
          "output_type": "stream",
          "name": "stdout",
          "text": [
            "Collecting wikipedia\n",
            "  Downloading wikipedia-1.4.0.tar.gz (27 kB)\n",
            "  Preparing metadata (setup.py) ... \u001b[?25l\u001b[?25hdone\n",
            "Requirement already satisfied: beautifulsoup4 in /usr/local/lib/python3.11/dist-packages (from wikipedia) (4.12.3)\n",
            "Requirement already satisfied: requests<3.0.0,>=2.0.0 in /usr/local/lib/python3.11/dist-packages (from wikipedia) (2.32.3)\n",
            "Requirement already satisfied: charset-normalizer<4,>=2 in /usr/local/lib/python3.11/dist-packages (from requests<3.0.0,>=2.0.0->wikipedia) (3.4.1)\n",
            "Requirement already satisfied: idna<4,>=2.5 in /usr/local/lib/python3.11/dist-packages (from requests<3.0.0,>=2.0.0->wikipedia) (3.10)\n",
            "Requirement already satisfied: urllib3<3,>=1.21.1 in /usr/local/lib/python3.11/dist-packages (from requests<3.0.0,>=2.0.0->wikipedia) (2.3.0)\n",
            "Requirement already satisfied: certifi>=2017.4.17 in /usr/local/lib/python3.11/dist-packages (from requests<3.0.0,>=2.0.0->wikipedia) (2024.12.14)\n",
            "Requirement already satisfied: soupsieve>1.2 in /usr/local/lib/python3.11/dist-packages (from beautifulsoup4->wikipedia) (2.6)\n",
            "Building wheels for collected packages: wikipedia\n",
            "  Building wheel for wikipedia (setup.py) ... \u001b[?25l\u001b[?25hdone\n",
            "  Created wheel for wikipedia: filename=wikipedia-1.4.0-py3-none-any.whl size=11679 sha256=4369fcf535ca418563910a3b380a154ba18d850205ba9c456311a34b8305da96\n",
            "  Stored in directory: /root/.cache/pip/wheels/8f/ab/cb/45ccc40522d3a1c41e1d2ad53b8f33a62f394011ec38cd71c6\n",
            "Successfully built wikipedia\n",
            "Installing collected packages: wikipedia\n",
            "Successfully installed wikipedia-1.4.0\n",
            "ERROR: unknown command \"insall\" - maybe you meant \"install\"\n"
          ]
        }
      ]
    },
    {
      "cell_type": "code",
      "execution_count": 7,
      "metadata": {
        "colab": {
          "base_uri": "https://localhost:8080/"
        },
        "id": "RWbEoVFGW7rj",
        "outputId": "71f5b7ba-4055-4910-d023-69e25607ce6c"
      },
      "outputs": [
        {
          "output_type": "stream",
          "name": "stdout",
          "text": [
            "Enter Institution Name: Birla Institute of Technology and Science Pilani\n",
            "{\n",
            "    \"name\": \"Birla Institute of Technology and Science Pilani\",\n",
            "    \"founder\": \"founder, G.D. Birla, was chancellor from the college's inception until his death in 1983. He was followed by his son, Krishna Kumar Birla, who was chancellor until his death in 2008. Currently, Kumar Mangalam Birla is chancellor and Shobhana Bhartia is pro-chancellor.\",\n",
            "    \"founded_year\": \"Founded in 1929, the Birla Education Trust established an intermediate college, followed by the addition of Science and Pharmacy colleges in 1943 and 1950 respectively. The Birla College of Engineering, offering degree programs in electrical and mechanical engineering was started in 1946. The master's program in electronics was introduced in 1955. In 1964, the Birla Colleges of Science, Engineering and Pharmacy were incorporated to form the Birla Institute of Technology and Science (BITS).\",\n",
            "    \"branches\": \"Not Available\",\n",
            "    \"employees\": \"Not Available\",\n",
            "    \"summary\": \"The Birla Institute of Technology and Science, Pilani (BITS Pilani) is a private deemed university in Pilani, Rajasthan, India  It focuses primarily on higher education and research in engineering and sciences\"\n",
            "}\n"
          ]
        }
      ],
      "source": [
        "from pydantic import BaseModel\n",
        "import wikipedia\n",
        "import re\n",
        "\n",
        "def extract_info(page_content: str, keyword: str) -> str:\n",
        "    \"\"\"Extract relevant information based on keyword search.\"\"\"\n",
        "    pattern = re.compile(rf'({keyword}.*?)\\n', re.IGNORECASE)\n",
        "    match = pattern.search(page_content)\n",
        "    return match.group(1) if match else \"Not Available\"\n",
        "\n",
        "class InstitutionInfo(BaseModel):\n",
        "    name: str\n",
        "    founder: str\n",
        "    founded_year: str\n",
        "    branches: str\n",
        "    employees: str\n",
        "    summary: str\n",
        "\n",
        "def fetch_institution_details(institution_name: str) -> InstitutionInfo:\n",
        "    try:\n",
        "        page = wikipedia.page(institution_name)\n",
        "        content = page.content\n",
        "\n",
        "        founder = extract_info(content, \"Founder\")\n",
        "        founded_year = extract_info(content, \"Founded\")\n",
        "        branches = extract_info(content, \"Campuses|Branches|Locations\")\n",
        "        employees = extract_info(content, \"Employees|Staff\")\n",
        "        summary = \" \".join(page.summary.split(\".\")[:2])  # First two sentences\n",
        "\n",
        "        return InstitutionInfo(\n",
        "            name=institution_name,\n",
        "            founder=founder,\n",
        "            founded_year=founded_year,\n",
        "            branches=branches,\n",
        "            employees=employees,\n",
        "            summary=summary\n",
        "        )\n",
        "    except wikipedia.exceptions.PageError:\n",
        "        return InstitutionInfo(\n",
        "            name=institution_name,\n",
        "            founder=\"Not Available\",\n",
        "            founded_year=\"Not Available\",\n",
        "            branches=\"Not Available\",\n",
        "            employees=\"Not Available\",\n",
        "            summary=\"No information found on Wikipedia.\"\n",
        "        )\n",
        "\n",
        "if __name__ == \"__main__\":\n",
        "    institution_name = input(\"Enter Institution Name: \")\n",
        "    result = fetch_institution_details(institution_name)\n",
        "    print(result.model_dump_json(indent=4))\n",
        "\n"
      ]
    }
  ]
}