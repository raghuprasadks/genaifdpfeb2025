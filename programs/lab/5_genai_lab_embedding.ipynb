{
  "nbformat": 4,
  "nbformat_minor": 0,
  "metadata": {
    "colab": {
      "provenance": []
    },
    "kernelspec": {
      "name": "python3",
      "display_name": "Python 3"
    },
    "language_info": {
      "name": "python"
    }
  },
  "cells": [
    {
      "cell_type": "markdown",
      "source": [
        "Use word embeddings to create meaningful sentences for creative tasks. Retrieve similar words for a seed word.\n",
        "Create a sentence or story using these words as a starting point. Write a program that: Takes a seed word. Generates\n",
        "similar words. Constructs a short paragraph using these words."
      ],
      "metadata": {
        "id": "rqfpH9egnOcT"
      }
    },
    {
      "cell_type": "code",
      "execution_count": 2,
      "metadata": {
        "colab": {
          "base_uri": "https://localhost:8080/"
        },
        "id": "e7adyJxcnH8V",
        "outputId": "067ecfa9-5509-4816-d165-aa6d2f820767"
      },
      "outputs": [
        {
          "output_type": "stream",
          "name": "stdout",
          "text": [
            "Seed Word: intelligence\n",
            "Generated Paragraph: In a world driven by intelligence, innovations continue to shape our future. With advancements in computing, edge, of, connects, and devices, society is witnessing a technological revolution that transforms industries and improves daily life.\n"
          ]
        }
      ],
      "source": [
        "import gensim\n",
        "from gensim.models import Word2Vec\n",
        "import re\n",
        "import pandas as pd\n",
        "import matplotlib.pyplot as plt\n",
        "from sklearn.decomposition import PCA\n",
        "import random\n",
        "\n",
        "# Sample domain-specific corpus (Technology)\n",
        "technology_corpus = [\n",
        "    \"Artificial intelligence is transforming various industries.\",\n",
        "    \"Machine learning algorithms improve predictive analytics.\",\n",
        "    \"Cloud computing enables scalable infrastructure for businesses.\",\n",
        "    \"Cybersecurity is crucial for protecting sensitive data.\",\n",
        "    \"Blockchain technology ensures secure and decentralized transactions.\",\n",
        "    \"The Internet of Things connects smart devices seamlessly.\",\n",
        "    \"Big data analytics helps organizations make data-driven decisions.\",\n",
        "    \"Quantum computing has the potential to revolutionize cryptography.\",\n",
        "    \"Edge computing brings computation closer to data sources.\",\n",
        "    \"Natural language processing enhances human-computer interactions.\"\n",
        "]\n",
        "\n",
        "# Basic text preprocessing function (tokenization & lowercasing)\n",
        "def simple_tokenize(text):\n",
        "    return re.findall(r'\\b\\w+\\b', text.lower())\n",
        "\n",
        "# Preprocess corpus manually\n",
        "preprocessed_corpus = [simple_tokenize(sentence) for sentence in technology_corpus]\n",
        "\n",
        "# Train Word2Vec model\n",
        "model = Word2Vec(sentences=preprocessed_corpus, vector_size=50, window=5, min_count=1, workers=4)\n",
        "\n",
        "# Function to get semantically similar words\n",
        "def get_similar_words(word, top_n=5):\n",
        "    if word in model.wv:\n",
        "        return [w[0] for w in model.wv.most_similar(word, topn=top_n)]\n",
        "    else:\n",
        "        return []\n",
        "\n",
        "# Function to generate a short paragraph using similar words\n",
        "def generate_paragraph(seed_word):\n",
        "    similar_words = get_similar_words(seed_word, top_n=5)\n",
        "    if not similar_words:\n",
        "        return f\"No similar words found for '{seed_word}'.\"\n",
        "\n",
        "    paragraph = f\"In a world driven by {seed_word}, innovations continue to shape our future. \"\n",
        "    paragraph += \"With advancements in \" + \", \".join(similar_words[:-1]) + f\", and {similar_words[-1]}, \"\n",
        "    paragraph += \"society is witnessing a technological revolution that transforms industries and improves daily life.\"\n",
        "\n",
        "    return paragraph\n",
        "\n",
        "# Example usage\n",
        "seed_word = \"intelligence\"\n",
        "generated_paragraph = generate_paragraph(seed_word)\n",
        "\n",
        "print(\"Seed Word:\", seed_word)\n",
        "print(\"Generated Paragraph:\", generated_paragraph)\n"
      ]
    }
  ]
}