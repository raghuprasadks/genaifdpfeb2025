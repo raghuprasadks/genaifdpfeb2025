{
  "nbformat": 4,
  "nbformat_minor": 0,
  "metadata": {
    "colab": {
      "provenance": []
    },
    "kernelspec": {
      "name": "python3",
      "display_name": "Python 3"
    },
    "language_info": {
      "name": "python"
    }
  },
  "cells": [
    {
      "cell_type": "code",
      "source": [
        "!pip install gensim"
      ],
      "metadata": {
        "colab": {
          "base_uri": "https://localhost:8080/"
        },
        "id": "kXxu9jqds2wM",
        "outputId": "489ed786-9403-4d91-839f-9ecb91be8e19"
      },
      "execution_count": 1,
      "outputs": [
        {
          "output_type": "stream",
          "name": "stdout",
          "text": [
            "Requirement already satisfied: gensim in /usr/local/lib/python3.11/dist-packages (4.3.3)\n",
            "Requirement already satisfied: numpy<2.0,>=1.18.5 in /usr/local/lib/python3.11/dist-packages (from gensim) (1.26.4)\n",
            "Requirement already satisfied: scipy<1.14.0,>=1.7.0 in /usr/local/lib/python3.11/dist-packages (from gensim) (1.13.1)\n",
            "Requirement already satisfied: smart-open>=1.8.1 in /usr/local/lib/python3.11/dist-packages (from gensim) (7.1.0)\n",
            "Requirement already satisfied: wrapt in /usr/local/lib/python3.11/dist-packages (from smart-open>=1.8.1->gensim) (1.17.2)\n"
          ]
        }
      ]
    },
    {
      "cell_type": "code",
      "execution_count": 2,
      "metadata": {
        "colab": {
          "base_uri": "https://localhost:8080/"
        },
        "id": "IMxcTxVnsjmt",
        "outputId": "791e73f0-149d-46b9-cd10-3a7870353696"
      },
      "outputs": [
        {
          "output_type": "stream",
          "name": "stdout",
          "text": [
            "['king is a strong man', 'queen is a wise woman', 'boy is a young man', 'girl is a young woman', 'prince is a young', 'prince will be strong', 'princess is young', 'man is strong', 'woman is pretty', 'prince is a boy', 'prince will be king', 'princess is a girl', 'princess will be queen']\n"
          ]
        }
      ],
      "source": [
        "corpus = ['king is a strong man','queen is a wise woman','boy is a young man',\n",
        "          'girl is a young woman','prince is a young','prince will be strong',\n",
        "          'princess is young','man is strong','woman is pretty', 'prince is a boy',\n",
        "          'prince will be king', 'princess is a girl', 'princess will be queen']\n",
        "print(corpus)"
      ]
    },
    {
      "cell_type": "code",
      "source": [
        "statements_listt = []\n",
        "for cor in corpus:\n",
        "  statements_listt.append(cor.split())\n",
        "print(statements_listt)\n",
        "from gensim.parsing.preprocessing import STOPWORDS\n",
        "documents = [[word for word in document if word not in STOPWORDS] for document in statements_listt]"
      ],
      "metadata": {
        "colab": {
          "base_uri": "https://localhost:8080/"
        },
        "id": "In5UTMTkslS2",
        "outputId": "e8cc0058-21e7-479f-d90b-76cd1c60e9fc"
      },
      "execution_count": 3,
      "outputs": [
        {
          "output_type": "stream",
          "name": "stdout",
          "text": [
            "[['king', 'is', 'a', 'strong', 'man'], ['queen', 'is', 'a', 'wise', 'woman'], ['boy', 'is', 'a', 'young', 'man'], ['girl', 'is', 'a', 'young', 'woman'], ['prince', 'is', 'a', 'young'], ['prince', 'will', 'be', 'strong'], ['princess', 'is', 'young'], ['man', 'is', 'strong'], ['woman', 'is', 'pretty'], ['prince', 'is', 'a', 'boy'], ['prince', 'will', 'be', 'king'], ['princess', 'is', 'a', 'girl'], ['princess', 'will', 'be', 'queen']]\n"
          ]
        }
      ]
    },
    {
      "cell_type": "code",
      "source": [
        "documents"
      ],
      "metadata": {
        "colab": {
          "base_uri": "https://localhost:8080/"
        },
        "id": "Gq09Fgcut4gD",
        "outputId": "3e617f3f-25f2-48bb-9ce5-28aa20c546bf"
      },
      "execution_count": 4,
      "outputs": [
        {
          "output_type": "execute_result",
          "data": {
            "text/plain": [
              "[['king', 'strong', 'man'],\n",
              " ['queen', 'wise', 'woman'],\n",
              " ['boy', 'young', 'man'],\n",
              " ['girl', 'young', 'woman'],\n",
              " ['prince', 'young'],\n",
              " ['prince', 'strong'],\n",
              " ['princess', 'young'],\n",
              " ['man', 'strong'],\n",
              " ['woman', 'pretty'],\n",
              " ['prince', 'boy'],\n",
              " ['prince', 'king'],\n",
              " ['princess', 'girl'],\n",
              " ['princess', 'queen']]"
            ]
          },
          "metadata": {},
          "execution_count": 4
        }
      ]
    },
    {
      "cell_type": "code",
      "source": [
        "import gensim\n",
        "from gensim.models import Word2Vec\n",
        "model = Word2Vec(documents, min_count=1, vector_size=3, window = 3)\n",
        "# Assuming you have already trained your Word2Vec model and it's stored in the 'model' variable\n",
        "\n",
        "# 1. Addition and Subtraction:\n",
        "vector1 = model.wv['king']\n",
        "vector2 = model.wv['man']\n",
        "sum_vector = vector1 + vector2\n",
        "print(\"sum vector \",sum_vector)\n",
        "diff_vector = vector1 - vector2\n",
        "print(\"difference vector \",sum_vector)\n",
        "# 2. Cosine Similarity:\n",
        "similarity = model.wv.similarity('king', 'queen')\n",
        "print(f\"Cosine Similarity between 'king' and 'queen': {similarity}\")\n",
        "\n",
        "# 3. Finding Most Similar Words:\n",
        "similar_words = model.wv.most_similar('king', topn=5)\n",
        "print(f\"Most Similar words to 'king': {similar_words}\")\n",
        "\n",
        "# 4. Analogy Example:\n",
        "analogy_vector = model.wv['king'] - model.wv['man'] + model.wv['woman']\n",
        "most_similar = model.wv.most_similar(positive=[analogy_vector], topn=1)\n",
        "print(f\"Analogy Result (king - man + woman): {most_similar}\")"
      ],
      "metadata": {
        "colab": {
          "base_uri": "https://localhost:8080/"
        },
        "id": "1YUbL_Qesoz0",
        "outputId": "dcbdcf5a-0b35-49be-f2e2-c8d3a4651f20"
      },
      "execution_count": 6,
      "outputs": [
        {
          "output_type": "stream",
          "name": "stdout",
          "text": [
            "sum vector  [ 0.04106534 -0.03225286 -0.2932088 ]\n",
            "difference vector  [ 0.04106534 -0.03225286 -0.2932088 ]\n",
            "Cosine Similarity between 'king' and 'queen': 0.8843974471092224\n",
            "Most Similar words to 'king': [('young', 0.9887178540229797), ('queen', 0.8843973875045776), ('girl', -0.036878012120723724), ('princess', -0.08420105278491974), ('wise', -0.20955052971839905)]\n",
            "Analogy Result (king - man + woman): [('queen', 0.9522483944892883)]\n"
          ]
        }
      ]
    }
  ]
}